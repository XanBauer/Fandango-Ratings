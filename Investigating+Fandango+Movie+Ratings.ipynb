{
 "cells": [
  {
   "cell_type": "markdown",
   "metadata": {},
   "source": [
    "# Did Fandango Fix Their Ratings, Again?\n",
    "\n",
    "In 2015, data journalist Walt Hickey found strong evidence to suggest that Fandango was inflating movie ratings by comparing the rating in the HTML and the rating on the page. After the release of this information, Fandango officials claimed that the inflation was caused by a bug in their system and they promised to fix the bug as soon as possible.\n",
    "\n",
    "Fandango has since removed the rating in the HTML. We can assume that they have fixed the issue, but confirming would be better. The goal of this project is to find evidence that shows action or inaction from Fandango to correct the ratings system."
   ]
  },
  {
   "cell_type": "code",
   "execution_count": 1,
   "metadata": {
    "collapsed": false
   },
   "outputs": [],
   "source": [
    "# Import necessary libraries\n",
    "import pandas as pd\n",
    "import matplotlib.pyplot as plt\n",
    "import numpy as np\n",
    "import warnings\n",
    "warnings.filterwarnings('ignore')\n",
    "\n",
    "score_comparisons = pd.read_csv('fandango_score_comparison.csv')\n",
    "movie_ratings = pd.read_csv('movie_ratings_16_17.csv')"
   ]
  },
  {
   "cell_type": "code",
   "execution_count": 2,
   "metadata": {
    "collapsed": false
   },
   "outputs": [
    {
     "name": "stdout",
     "output_type": "stream",
     "text": [
      "<class 'pandas.core.frame.DataFrame'>\n",
      "RangeIndex: 146 entries, 0 to 145\n",
      "Data columns (total 22 columns):\n",
      " #   Column                      Non-Null Count  Dtype  \n",
      "---  ------                      --------------  -----  \n",
      " 0   FILM                        146 non-null    object \n",
      " 1   RottenTomatoes              146 non-null    int64  \n",
      " 2   RottenTomatoes_User         146 non-null    int64  \n",
      " 3   Metacritic                  146 non-null    int64  \n",
      " 4   Metacritic_User             146 non-null    float64\n",
      " 5   IMDB                        146 non-null    float64\n",
      " 6   Fandango_Stars              146 non-null    float64\n",
      " 7   Fandango_Ratingvalue        146 non-null    float64\n",
      " 8   RT_norm                     146 non-null    float64\n",
      " 9   RT_user_norm                146 non-null    float64\n",
      " 10  Metacritic_norm             146 non-null    float64\n",
      " 11  Metacritic_user_nom         146 non-null    float64\n",
      " 12  IMDB_norm                   146 non-null    float64\n",
      " 13  RT_norm_round               146 non-null    float64\n",
      " 14  RT_user_norm_round          146 non-null    float64\n",
      " 15  Metacritic_norm_round       146 non-null    float64\n",
      " 16  Metacritic_user_norm_round  146 non-null    float64\n",
      " 17  IMDB_norm_round             146 non-null    float64\n",
      " 18  Metacritic_user_vote_count  146 non-null    int64  \n",
      " 19  IMDB_user_vote_count        146 non-null    int64  \n",
      " 20  Fandango_votes              146 non-null    int64  \n",
      " 21  Fandango_Difference         146 non-null    float64\n",
      "dtypes: float64(15), int64(6), object(1)\n",
      "memory usage: 25.2+ KB\n"
     ]
    }
   ],
   "source": [
    "score_comparisons.info()"
   ]
  },
  {
   "cell_type": "code",
   "execution_count": 3,
   "metadata": {
    "collapsed": false
   },
   "outputs": [
    {
     "name": "stdout",
     "output_type": "stream",
     "text": [
      "<class 'pandas.core.frame.DataFrame'>\n",
      "RangeIndex: 214 entries, 0 to 213\n",
      "Data columns (total 15 columns):\n",
      " #   Column        Non-Null Count  Dtype  \n",
      "---  ------        --------------  -----  \n",
      " 0   movie         214 non-null    object \n",
      " 1   year          214 non-null    int64  \n",
      " 2   metascore     214 non-null    int64  \n",
      " 3   imdb          214 non-null    float64\n",
      " 4   tmeter        214 non-null    int64  \n",
      " 5   audience      214 non-null    int64  \n",
      " 6   fandango      214 non-null    float64\n",
      " 7   n_metascore   214 non-null    float64\n",
      " 8   n_imdb        214 non-null    float64\n",
      " 9   n_tmeter      214 non-null    float64\n",
      " 10  n_audience    214 non-null    float64\n",
      " 11  nr_metascore  214 non-null    float64\n",
      " 12  nr_imdb       214 non-null    float64\n",
      " 13  nr_tmeter     214 non-null    float64\n",
      " 14  nr_audience   214 non-null    float64\n",
      "dtypes: float64(10), int64(4), object(1)\n",
      "memory usage: 25.2+ KB\n"
     ]
    }
   ],
   "source": [
    "movie_ratings.info()"
   ]
  },
  {
   "cell_type": "code",
   "execution_count": 4,
   "metadata": {
    "collapsed": false
   },
   "outputs": [],
   "source": [
    "fandango_scores = score_comparisons[['FILM', 'Fandango_Stars', 'Fandango_Ratingvalue', 'Fandango_votes', 'Fandango_Difference']]\n",
    "fandango_ratings = movie_ratings[['movie', 'year', 'fandango']]"
   ]
  },
  {
   "cell_type": "markdown",
   "metadata": {},
   "source": [
    "The fandango_scores dataset contains fandango ratings data from movies that have a Rotten Tomatoes rating, a RT User rating, a Metacritic score, a Metacritic User score, and IMDb score, and at least 30 fan reviews on Fandango.\n",
    "\n",
    "This dataset contains ratings data for 214 of the most popular movies (those with a significant number of votes) released in 2016 and 2017.\n",
    "\n",
    "Neither dataset was randomly sampled, so we cannot find evidence of widespread rating inflation. However, we can use it to determine if there was still inflation on popular movies in 2016-17, compared to the ratings of popular movies in 2015.\n",
    "\n",
    "Hickey analyzed the ratings of movies that had at least 30 ratings on Fandango. Unfortunately, our second dataset does not contain the number of Fandango ratings for 2016-17 movies. A workaround to check the relevance of our data is to sample 10 movies from our 2016-17 dataset and check Fandango's website to see if they meet the 30 rating count requirement."
   ]
  },
  {
   "cell_type": "code",
   "execution_count": 5,
   "metadata": {
    "collapsed": false
   },
   "outputs": [
    {
     "name": "stdout",
     "output_type": "stream",
     "text": [
      "2016 movies:191, 2017 movies:23\n"
     ]
    }
   ],
   "source": [
    "fandango_2016 = fandango_ratings[fandango_ratings['year']==2016]\n",
    "fandango_2017 = fandango_ratings[fandango_ratings['year']==2017]\n",
    "print('2016 movies:'+str(len(fandango_2016))+', 2017 movies:'+str(len(fandango_2017)))"
   ]
  },
  {
   "cell_type": "markdown",
   "metadata": {},
   "source": [
    "The 2016-17 data contains more than eight times the amount of 2016 movies than 2017 movies. We will avoid analysis on the 2017 data since it is likely that it will not produce an representative sample of movies released that year.\n",
    "\n",
    "Fandango has replaced their 5 star ratings system with two new metrics ('Tomatometer' & 'Audience Score') from third party review site 'Rotten Tomatoes'. To account for this change, we will look to the review count of the Audience Score on Rotten Tomatoes.  The Audience Score is defined as \"The percentage of users who made a verified movie ticket purchase and rated this 3.5 stars or higher.\"\n",
    "\n",
    "Rotten Tomatoes displays the count of audience score ratings for each movie at rounded intervals."
   ]
  },
  {
   "cell_type": "code",
   "execution_count": 6,
   "metadata": {
    "collapsed": false
   },
   "outputs": [
    {
     "name": "stdout",
     "output_type": "stream",
     "text": [
      "                               movie  year\n",
      "36                           Collide  2016\n",
      "75         Ice Age: Collision Course  2016\n",
      "125                 Now You See Me 2  2016\n",
      "171         The Disappointments Room  2016\n",
      "92          Kubo and the Two Strings  2016\n",
      "134  Pride and Prejudice and Zombies  2016\n",
      "40                          Deadpool  2016\n",
      "115                    Money Monster  2016\n",
      "204                         War Dogs  2016\n",
      "111             Miracles from Heaven  2016\n"
     ]
    }
   ],
   "source": [
    "print(fandango_2016[['movie', 'year']].sample(n=10, random_state=1))"
   ]
  },
  {
   "cell_type": "code",
   "execution_count": 7,
   "metadata": {
    "collapsed": false
   },
   "outputs": [
    {
     "name": "stdout",
     "output_type": "stream",
     "text": [
      "                             Movie  Ratings Count\n",
      "0                          Collide           2500\n",
      "1        Ice Age: Collision Course          25000\n",
      "2                 Now You See Me 2          50000\n",
      "3         The Disappointments Room           2500\n",
      "4         Kubo and the Two Strings          25000\n",
      "5  Pride and Prejudice and Zombies          25000\n",
      "6                         Deadpool         100000\n",
      "7                    Money Monster          10000\n",
      "8                         War Dogs          25000\n",
      "9             Miracles from Heaven          10000\n"
     ]
    }
   ],
   "source": [
    "data = [\n",
    "        ['Collide',2500],\n",
    "        ['Ice Age: Collision Course',25000],\n",
    "        ['Now You See Me 2',50000],\n",
    "        ['The Disappointments Room',2500],\n",
    "        ['Kubo and the Two Strings',25000],\n",
    "        ['Pride and Prejudice and Zombies',25000],\n",
    "        ['Deadpool',100000],\n",
    "        ['Money Monster',10000],\n",
    "        ['War Dogs',25000],\n",
    "        ['Miracles from Heaven', 10000]\n",
    "       ]\n",
    "\n",
    "movie_sample = pd.DataFrame(data, columns=['Movie','Ratings Count'])\n",
    "print(movie_sample)"
   ]
  },
  {
   "cell_type": "markdown",
   "metadata": {
    "collapsed": true
   },
   "source": [
    "Of the 10 movies that we sampled from the 2016-17 dataset, all had more than 2,500 ratings. To identify the change in Fandango's ratings from 2015 to 2016, we will isolate the data into two groups by year and plot the ratings side by side."
   ]
  },
  {
   "cell_type": "code",
   "execution_count": 8,
   "metadata": {
    "collapsed": false
   },
   "outputs": [],
   "source": [
    "fandango_2015 = fandango_scores[fandango_scores['FILM'].str.contains('2015')]"
   ]
  },
  {
   "cell_type": "code",
   "execution_count": 9,
   "metadata": {
    "collapsed": false
   },
   "outputs": [],
   "source": [
    "import matplotlib.style as style\n",
    "style.use('fivethirtyeight')\n",
    "ratings_graph = fandango_2015['Fandango_Stars'].plot.kde(label='2015', legend=True)\n",
    "ratings_graph = fandango_2016['fandango'].plot.kde(label='2016', legend=True)\n",
    "ratings_graph.legend()\n",
    "plt.title('Rating Comparison',fontdict={'fontsize':20})\n",
    "ratings_graph.set_xlabel('Rating')\n",
    "ratings_graph.set_xticks([1.5, 2.0, 2.5, 3.0, 3.5, 4.0, 4.5, 5.0])\n",
    "ratings_graph.set_ylabel('Probability')\n",
    "ratings_graph.set_yticklabels(labels=['0','20','40','60','80','100%'])\n",
    "ratings_graph.axhline(y=.008,color='black',linewidth=1.3,alpha=1)\n",
    "\n",
    "# Save figure instead of displaying it inline for memory efficiency\n",
    "plt.savefig(\"images/15_16_ratings_comparison.png\", dpi=300, bbox_inches='tight')\n",
    "\n",
    "# Clear the plot to free memory\n",
    "plt.close()"
   ]
  },
  {
   "cell_type": "markdown",
   "metadata": {
    "collapsed": true
   },
   "source": [
    "<div>\n",
    "<img src=\"https://raw.githubusercontent.com/XanBauer/Fandango-Ratings/main/images/15_16_ratings_comparison.png\" width=\"750\" height=\"500\"/>\n",
    "</div>\n",
    "\n",
    "The 2015 distribution has a clear negative skew. The 2016 distribution has a only a slight negative skew. Both plots are unimodal with the 2015 mode at 4.5 and the 2016 mode at 4.0. This graph provides evidence to suggest that Fandango reduced upwards bias in movie ratings from 2015 to 2016. \n",
    "\n",
    "Looking at the frequency distributions of the ratings analyzed for the two years, we can corroborate what we gleaned from the KDE plots. There is still a clear shift towards lower ratings in the 2016 plot relative to the 2015 plot and both have a majority of ratings in the higher end of the scale.  add "
   ]
  },
  {
   "cell_type": "code",
   "execution_count": 10,
   "metadata": {
    "collapsed": false
   },
   "outputs": [
    {
     "name": "stdout",
     "output_type": "stream",
     "text": [
      "2015\n",
      "----------------\n"
     ]
    },
    {
     "data": {
      "text/plain": [
       "Fandango_Stars\n",
       "3.0     8.527132\n",
       "3.5    17.829457\n",
       "4.0    28.682171\n",
       "4.5    37.984496\n",
       "5.0     6.976744\n",
       "Name: proportion, dtype: float64"
      ]
     },
     "execution_count": 10,
     "metadata": {},
     "output_type": "execute_result"
    }
   ],
   "source": [
    "print('2015' + '\\n' + '-' * 16) \n",
    "                                \n",
    "fandango_2015['Fandango_Stars'].value_counts(normalize=True).sort_index() * 100"
   ]
  },
  {
   "cell_type": "code",
   "execution_count": 11,
   "metadata": {
    "collapsed": false
   },
   "outputs": [
    {
     "name": "stdout",
     "output_type": "stream",
     "text": [
      "2016\n",
      "----------------\n"
     ]
    },
    {
     "data": {
      "text/plain": [
       "fandango\n",
       "2.5     3.141361\n",
       "3.0     7.329843\n",
       "3.5    24.083770\n",
       "4.0    40.314136\n",
       "4.5    24.607330\n",
       "5.0     0.523560\n",
       "Name: proportion, dtype: float64"
      ]
     },
     "execution_count": 11,
     "metadata": {},
     "output_type": "execute_result"
    }
   ],
   "source": [
    "print('2016' + '\\n' + '-' * 16) \n",
    "\n",
    "fandango_2016['fandango'].value_counts(normalize=True).sort_index()*100"
   ]
  },
  {
   "cell_type": "code",
   "execution_count": 12,
   "metadata": {
    "collapsed": false
   },
   "outputs": [
    {
     "data": {
      "text/html": [
       "<div>\n",
       "<style scoped>\n",
       "    .dataframe tbody tr th:only-of-type {\n",
       "        vertical-align: middle;\n",
       "    }\n",
       "\n",
       "    .dataframe tbody tr th {\n",
       "        vertical-align: top;\n",
       "    }\n",
       "\n",
       "    .dataframe thead th {\n",
       "        text-align: right;\n",
       "    }\n",
       "</style>\n",
       "<table border=\"1\" class=\"dataframe\">\n",
       "  <thead>\n",
       "    <tr style=\"text-align: right;\">\n",
       "      <th></th>\n",
       "      <th>2015</th>\n",
       "      <th>2016</th>\n",
       "    </tr>\n",
       "  </thead>\n",
       "  <tbody>\n",
       "    <tr>\n",
       "      <th>mean</th>\n",
       "      <td>4.085271</td>\n",
       "      <td>3.887435</td>\n",
       "    </tr>\n",
       "    <tr>\n",
       "      <th>median</th>\n",
       "      <td>4.000000</td>\n",
       "      <td>4.000000</td>\n",
       "    </tr>\n",
       "    <tr>\n",
       "      <th>mode</th>\n",
       "      <td>4.500000</td>\n",
       "      <td>4.000000</td>\n",
       "    </tr>\n",
       "  </tbody>\n",
       "</table>\n",
       "</div>"
      ],
      "text/plain": [
       "            2015      2016\n",
       "mean    4.085271  3.887435\n",
       "median  4.000000  4.000000\n",
       "mode    4.500000  4.000000"
      ]
     },
     "execution_count": 12,
     "metadata": {},
     "output_type": "execute_result"
    }
   ],
   "source": [
    "mean_2015 = fandango_2015['Fandango_Stars'].mean()\n",
    "mean_2016 = fandango_2016['fandango'].mean()\n",
    "\n",
    "median_2015 = fandango_2015['Fandango_Stars'].median()\n",
    "median_2016 = fandango_2016['fandango'].median()\n",
    "\n",
    "mode_2015 = fandango_2015['Fandango_Stars'].mode()[0] # the output of Series.mode() is a bit uncommon\n",
    "mode_2016 = fandango_2016['fandango'].mode()[0]\n",
    "\n",
    "summary = pd.DataFrame()\n",
    "summary['2015'] = [mean_2015, median_2015, mode_2015]\n",
    "summary['2016'] = [mean_2016, median_2016, mode_2016]\n",
    "summary.index = ['mean', 'median', 'mode']\n",
    "summary"
   ]
  },
  {
   "cell_type": "code",
   "execution_count": 13,
   "metadata": {
    "collapsed": false
   },
   "outputs": [],
   "source": [
    "summary['2015'].plot.bar(color = '#0066FF', align = 'center', label = '2015', width = .25)\n",
    "summary['2016'].plot.bar(color = '#CC0000', align = 'edge', label = '2016', width = .25,\n",
    "                         rot = 0, figsize = (8,5))\n",
    "\n",
    "plt.title('Comparing summary statistics: 2015 vs 2016', y = 1.07)\n",
    "plt.ylim(0,5.5)\n",
    "plt.yticks(np.arange(0,5.1,.5))\n",
    "plt.ylabel('Stars')\n",
    "plt.legend(framealpha = 0, loc = 'upper center')\n",
    "\n",
    "# Save figure instead of displaying it inline for memory efficiency\n",
    "plt.savefig(\"images/15_16_centers_comparison.png\", dpi=300, bbox_inches='tight')\n",
    "\n",
    "# Clear the plot to free memory\n",
    "plt.close()"
   ]
  },
  {
   "cell_type": "markdown",
   "metadata": {},
   "source": [
    "<div>\n",
    "<img src=\"https://raw.githubusercontent.com/XanBauer/Fandango-Ratings/main/images/15_16_centers_comparison.png\" width=\"750\" height=\"500\"/>\n",
    "</div>\n",
    "\n",
    "There is evidence to suggest that the upward bias on Fandango's movie ratings was decreased or eliminated. A way to estimate if the system was adequately changed would be to analyze the difference in actual vs. presented ratings from Hickey's 2015 analysis. Adding that to the end of this report will strengthen it. "
   ]
  },
  {
   "cell_type": "code",
   "execution_count": 14,
   "metadata": {
    "collapsed": false
   },
   "outputs": [
    {
     "data": {
      "text/plain": [
       "np.float64(0.24383561643835613)"
      ]
     },
     "execution_count": 14,
     "metadata": {},
     "output_type": "execute_result"
    }
   ],
   "source": [
    "score_comparisons['Fandango_Difference'].mean()"
   ]
  },
  {
   "cell_type": "markdown",
   "metadata": {},
   "source": [
    "The mean difference in Fandango ratings and Fandango stars, 0.24, is similar to the mean difference in Fandango ratings in 2015 and 2016, 0.2. This would suggest that Fandango has acted to address the upward bias in its system."
   ]
  },
  {
   "cell_type": "code",
   "execution_count": 15,
   "metadata": {
    "collapsed": false
   },
   "outputs": [],
   "source": [
    "pd.set_option('display.max_columns', None)\n",
    "# Isolate normalized ratings\n",
    "normalized_ratings = score_comparisons[['Fandango_Ratingvalue',\n",
    "                                        'Fandango_Stars',\n",
    "                                        'RT_user_norm_round',\n",
    "                                        'Metacritic_user_norm_round',\n",
    "                                        'IMDB_norm_round']]\n",
    "\n",
    "ax1 = plt.axes()\n",
    "# Create list of colorblind friendly colors\n",
    "colors = [[0,0,0], [230/255,159/255,0], [86/255,180/255,233/255], [0,158/255,115/255],\n",
    "          [213/255,94/255,0], [0,114/255,178/255]]\n",
    "\n",
    "site_graph=normalized_ratings.plot.kde(color=colors,ax=ax1,legend=False)\n",
    "site_graph.set_title('Comparing audience ratings from multiple sites', y=1.07)\n",
    "site_graph.set_xlabel('Rating')\n",
    "site_graph.set_xticks([1,2,3,4,5])\n",
    "site_graph.axhline(y=.007,c='black',linewidth=0.65)\n",
    "site_graph.set_ylabel('Probability')\n",
    "site_graph.set_yticklabels(labels=['0','20','40','60','80','100%'])\n",
    "\n",
    "# Label lines on plot\n",
    "site_graph.text(x=3.75,y=.85,s='Fandango Rating',color=colors[0],weight='bold', backgroundcolor='#f0f0f0',fontsize='xx-small')\n",
    "x = [4.15,4.25]\n",
    "y = [.75,.85]\n",
    "site_graph.plot(x,y,'-k',linewidth=1,color=colors[0])\n",
    "\n",
    "site_graph.text(x=4.75,y=.75,s='Fandango Stars',color=colors[1],weight='bold', backgroundcolor='#f0f0f0',fontsize='xx-small')\n",
    "\n",
    "site_graph.text(x=.25,y=.15,s='RT Users',color=colors[2],weight='bold', rotation=33, backgroundcolor='#f0f0f0',fontsize='xx-small')\n",
    "\n",
    "site_graph.text(x=1.23,y=.37,s='Metacritic Users',color=colors[3],weight='bold', rotation=33, backgroundcolor='#f0f0f0',fontsize='xx-small')\n",
    "x1 = [2,2.5]\n",
    "y1 = [.27,.25]\n",
    "site_graph.plot(x1,y1,'-k',linewidth=1,color=colors[3])\n",
    "\n",
    "site_graph.text(x=2.4,y=.55,s='IMDB',color=colors[4],weight='bold', backgroundcolor='#f0f0f0',fontsize='xx-small')\n",
    "\n",
    "# Save figure instead of displaying it inline for memory efficiency\n",
    "plt.savefig(\"images/multiple_site_comparison.png\", dpi=300, bbox_inches='tight')\n",
    "\n",
    "# Clear the plot to free memory\n",
    "plt.close()"
   ]
  },
  {
   "cell_type": "markdown",
   "metadata": {},
   "source": [
    "<div>\n",
    "<img src=\"https://raw.githubusercontent.com/XanBauer/Fandango-Ratings/main/images/multiple_site_comparison.png\" width=\"750\" height=\"500\"/>\n",
    "</div>"
   ]
  },
  {
   "cell_type": "code",
   "execution_count": 16,
   "metadata": {
    "collapsed": false
   },
   "outputs": [
    {
     "data": {
      "text/plain": [
       "RT_user_norm_round            3.226027\n",
       "Metacritic_user_norm_round    3.270548\n",
       "IMDB_norm_round               3.380137\n",
       "Fandango_Ratingvalue          3.845205\n",
       "Fandango_Stars                4.089041\n",
       "dtype: float64"
      ]
     },
     "execution_count": 16,
     "metadata": {},
     "output_type": "execute_result"
    }
   ],
   "source": [
    "normalized_ratings.mean().sort_values()"
   ]
  },
  {
   "cell_type": "markdown",
   "metadata": {},
   "source": [
    "Comparing ratings across sites, Fandango still has the highest mean ratings score for movies across the websites. While the other three sites have mean ratings in a range of 0.16, Fandango mean ratings are .46 higher than the next highest website ratings, suggesting that they were still inflating ratings. "
   ]
  }
 ],
 "metadata": {
  "kernelspec": {
   "display_name": "venv",
   "language": "python",
   "name": "python3"
  },
  "language_info": {
   "codemirror_mode": {
    "name": "ipython",
    "version": 3
   },
   "file_extension": ".py",
   "mimetype": "text/x-python",
   "name": "python",
   "nbconvert_exporter": "python",
   "pygments_lexer": "ipython3",
   "version": "3.13.0"
  }
 },
 "nbformat": 4,
 "nbformat_minor": 2
}
